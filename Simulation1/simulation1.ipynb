{
 "cells": [
  {
   "cell_type": "markdown",
   "id": "2030c594-fc07-4d93-ac98-514cdd07e2ca",
   "metadata": {},
   "source": [
    "Main Python code to perform the simulation and display results"
   ]
  },
  {
   "cell_type": "code",
   "execution_count": 2,
   "id": "5c1fd436-628b-4336-bd92-6b4104c6bd1a",
   "metadata": {},
   "outputs": [],
   "source": [
    "import numpy as np\n",
    "from matplotlib import pyplot as plt, colors as mcolors\n",
    "from scipy.integrate import solve_ivp\n",
    "from scipy.constants import G, au\n",
    "from sklearn.preprocessing import MinMaxScaler\n",
    "\n",
    "from ctypes import c_void_p, c_double, c_int, cdll\n",
    "from numpy.ctypeslib import ndpointer"
   ]
  },
  {
   "cell_type": "code",
   "execution_count": 3,
   "outputs": [],
   "source": [
    "massfactor = 10**24 # [kg]\n",
    "scalefactor = 100  # [au]\n",
    "velocityfactor = 100  # []\n",
    "accuracy = 0.3"
   ],
   "metadata": {
    "collapsed": false,
    "pycharm": {
     "name": "#%%\n"
    }
   }
  },
  {
   "cell_type": "markdown",
   "source": [
    "Generate random body system:"
   ],
   "metadata": {
    "collapsed": false,
    "pycharm": {
     "name": "#%% md\n"
    }
   }
  },
  {
   "cell_type": "code",
   "execution_count": 4,
   "outputs": [],
   "source": [
    "count = 10"
   ],
   "metadata": {
    "collapsed": false,
    "pycharm": {
     "name": "#%%\n"
    }
   }
  },
  {
   "cell_type": "code",
   "execution_count": 5,
   "outputs": [],
   "source": [
    "def massGen():\n",
    "    for _ in range(count):\n",
    "        yield abs(np.random.randn())*massfactor\n",
    "\n",
    "def positionGen():\n",
    "    for _ in range(count):\n",
    "        yield np.random.randn(2)*scalefactor*au\n",
    "\n",
    "def velocityGen():\n",
    "    for _ in range(count):\n",
    "        yield np.random.randn(2)*velocityfactor"
   ],
   "metadata": {
    "collapsed": false,
    "pycharm": {
     "name": "#%%\n"
    }
   }
  },
  {
   "cell_type": "code",
   "execution_count": 6,
   "outputs": [],
   "source": [
    "bodies = zip(masses := np.array([[_ for _ in massGen()]]), positions := np.array([_ for _ in positionGen()]))"
   ],
   "metadata": {
    "collapsed": false,
    "pycharm": {
     "name": "#%%\n"
    }
   }
  },
  {
   "cell_type": "code",
   "execution_count": 7,
   "outputs": [],
   "source": [
    "velocities = np.array([_ for _ in velocityGen()])"
   ],
   "metadata": {
    "collapsed": false,
    "pycharm": {
     "name": "#%%\n"
    }
   }
  },
  {
   "cell_type": "markdown",
   "source": [
    "Show data:"
   ],
   "metadata": {
    "collapsed": false,
    "pycharm": {
     "name": "#%% md\n"
    }
   }
  },
  {
   "cell_type": "code",
   "source": [
    "plt.title('Mass distribution')\n",
    "plt.plot(masses)"
   ],
   "metadata": {
    "collapsed": false,
    "pycharm": {
     "name": "#%%\n"
    }
   },
   "execution_count": 8,
   "outputs": [
    {
     "data": {
      "text/plain": "[<matplotlib.lines.Line2D at 0x7f19ad0b6c10>,\n <matplotlib.lines.Line2D at 0x7f19ad0b6bb0>,\n <matplotlib.lines.Line2D at 0x7f19ad0b6cd0>,\n <matplotlib.lines.Line2D at 0x7f19ad0b6df0>,\n <matplotlib.lines.Line2D at 0x7f19ad0b6f10>,\n <matplotlib.lines.Line2D at 0x7f19ad0cc070>,\n <matplotlib.lines.Line2D at 0x7f19ad0cc190>,\n <matplotlib.lines.Line2D at 0x7f19ad0cc2b0>,\n <matplotlib.lines.Line2D at 0x7f19ad0cc3d0>,\n <matplotlib.lines.Line2D at 0x7f19ad0cc4f0>]"
     },
     "execution_count": 8,
     "metadata": {},
     "output_type": "execute_result"
    },
    {
     "data": {
      "text/plain": "<Figure size 432x288 with 1 Axes>",
      "image/png": "[encoded data removed]"
     },
     "metadata": {
      "needs_background": "light"
     },
     "output_type": "display_data"
    }
   ]
  },
  {
   "cell_type": "code",
   "execution_count": 9,
   "outputs": [
    {
     "data": {
      "text/plain": "<matplotlib.colorbar.Colorbar at 0x7f19acf8f400>"
     },
     "execution_count": 9,
     "metadata": {},
     "output_type": "execute_result"
    },
    {
     "data": {
      "text/plain": "<Figure size 432x288 with 2 Axes>",
      "image/png": "[encoded data removed]"
     },
     "metadata": {
      "needs_background": "light"
     },
     "output_type": "display_data"
    }
   ],
   "source": [
    "mass_scaler = MinMaxScaler()\n",
    "cmap = mass_scaler.fit_transform(masses.reshape(-2, 2))\n",
    "c = mcolors.ColorConverter().to_rgb\n",
    "\n",
    "plt.title('Bodies distribution')\n",
    "plt.scatter(positions[:, 0], positions[:, 1], c=cmap)\n",
    "plt.colorbar()"
   ],
   "metadata": {
    "collapsed": false,
    "pycharm": {
     "name": "#%%\n"
    }
   }
  },
  {
   "cell_type": "code",
   "execution_count": 10,
   "outputs": [
    {
     "data": {
      "text/plain": "<matplotlib.quiver.Quiver at 0x7f19ad0dbbb0>"
     },
     "execution_count": 10,
     "metadata": {},
     "output_type": "execute_result"
    },
    {
     "data": {
      "text/plain": "<Figure size 432x288 with 1 Axes>",
      "image/png": "[encoded data removed]"
     },
     "metadata": {
      "needs_background": "light"
     },
     "output_type": "display_data"
    }
   ],
   "source": [
    "plt.title('Velocities')\n",
    "plt.quiver(positions[:,0], positions[:,1], velocities[:,0], velocities[:,1])"
   ],
   "metadata": {
    "collapsed": false,
    "pycharm": {
     "name": "#%%\n"
    }
   }
  },
  {
   "cell_type": "markdown",
   "source": [
    "Construct Python function from C shared library:"
   ],
   "metadata": {
    "collapsed": false,
    "pycharm": {
     "name": "#%% md\n"
    }
   }
  },
  {
   "cell_type": "code",
   "execution_count": 11,
   "outputs": [],
   "source": [
    "lib = cdll.LoadLibrary(\"barnes-hut/barneshut.so\")\n",
    "computeForces = lib.perform\n",
    "computeForces.restype = ndpointer(dtype=c_double,\n",
    "                          shape=(count,2))"
   ],
   "metadata": {
    "collapsed": false,
    "pycharm": {
     "name": "#%%\n"
    }
   }
  },
  {
   "cell_type": "markdown",
   "source": [
    "Compute forces using C function:"
   ],
   "metadata": {
    "collapsed": false,
    "pycharm": {
     "name": "#%% md\n"
    }
   }
  },
  {
   "cell_type": "code",
   "execution_count": 15,
   "outputs": [],
   "source": [
    "state = np.concatenate((masses.T, positions), axis=1)"
   ],
   "metadata": {
    "collapsed": false,
    "pycharm": {
     "name": "#%%\n"
    }
   }
  },
  {
   "cell_type": "code",
   "execution_count": 17,
   "outputs": [
    {
     "data": {
      "text/plain": "array([[ 2.10630544e+24,  1.70819442e+13,  3.15052508e+13],\n       [ 9.34931315e+23, -1.14324048e+13,  2.07517883e+13],\n       [ 3.65978540e+23,  2.22034238e+13,  2.18033291e+13],\n       [ 7.99303285e+22, -8.62852987e+12, -4.20117035e+12],\n       [ 4.88581167e+23, -1.71246461e+13, -5.90800086e+12],\n       [ 9.92383060e+23,  1.90357740e+13, -8.34889851e+12],\n       [ 1.91985191e+24, -6.09798462e+12,  8.04967742e+12],\n       [ 1.46177935e+24, -6.61145676e+12, -4.59142440e+12],\n       [ 8.46029401e+23, -6.10267545e+12,  8.59643672e+12],\n       [ 1.22703945e+22,  7.71468845e+12,  1.42941145e+13]])"
     },
     "execution_count": 17,
     "metadata": {},
     "output_type": "execute_result"
    }
   ],
   "source": [
    "state"
   ],
   "metadata": {
    "collapsed": false,
    "pycharm": {
     "name": "#%%\n"
    }
   }
  },
  {
   "cell_type": "code",
   "execution_count": null,
   "outputs": [],
   "source": [
    "forces = computeForces(c_void_p(state.ctypes.data),c_int(count),c_double(accuracy))"
   ],
   "metadata": {
    "collapsed": false,
    "pycharm": {
     "name": "#%%\n",
     "is_executing": true
    }
   }
  },
  {
   "cell_type": "code",
   "execution_count": null,
   "outputs": [],
   "source": [],
   "metadata": {
    "collapsed": false,
    "pycharm": {
     "name": "#%%\n",
     "is_executing": true
    }
   }
  }
 ],
 "metadata": {
  "kernelspec": {
   "display_name": "Python 3 (ipykernel)",
   "language": "python",
   "name": "python3"
  },
  "language_info": {
   "codemirror_mode": {
    "name": "ipython",
    "version": 3
   },
   "file_extension": ".py",
   "mimetype": "text/x-python",
   "name": "python",
   "nbconvert_exporter": "python",
   "pygments_lexer": "ipython3",
   "version": "3.9.10"
  }
 },
 "nbformat": 4,
 "nbformat_minor": 5
}