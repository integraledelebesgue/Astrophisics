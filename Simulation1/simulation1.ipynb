{
 "cells": [
  {
   "cell_type": "markdown",
   "id": "2030c594-fc07-4d93-ac98-514cdd07e2ca",
   "metadata": {},
   "source": [
    "Main Python code to perform the simulation and display results"
   ]
  },
  {
   "cell_type": "code",
   "execution_count": 1,
   "id": "5c1fd436-628b-4336-bd92-6b4104c6bd1a",
   "metadata": {},
   "outputs": [],
   "source": [
    "import numpy as np\n",
    "from matplotlib import pyplot as plt, colors as mcolors\n",
    "from scipy.integrate import solve_ivp\n",
    "from scipy.constants import G, au\n",
    "from sklearn.preprocessing import MinMaxScaler\n",
    "\n",
    "from ctypes import c_void_p, c_double, c_int, cdll\n",
    "from numpy.ctypeslib import ndpointer"
   ]
  },
  {
   "cell_type": "code",
   "execution_count": 2,
   "outputs": [],
   "source": [
    "massfactor = 10**24 # [kg]\n",
    "scalefactor = 100  # [au]\n",
    "velocityfactor = 100  # []\n",
    "accuracy = 0.3"
   ],
   "metadata": {
    "collapsed": false,
    "pycharm": {
     "name": "#%%\n"
    }
   }
  },
  {
   "cell_type": "markdown",
   "source": [
    "Generate random body system:"
   ],
   "metadata": {
    "collapsed": false,
    "pycharm": {
     "name": "#%% md\n"
    }
   }
  },
  {
   "cell_type": "code",
   "execution_count": 3,
   "outputs": [],
   "source": [
    "count = 10"
   ],
   "metadata": {
    "collapsed": false,
    "pycharm": {
     "name": "#%%\n"
    }
   }
  },
  {
   "cell_type": "code",
   "execution_count": 4,
   "outputs": [],
   "source": [
    "def massGen():\n",
    "    for _ in range(count):\n",
    "        yield abs(np.random.randn())*massfactor\n",
    "\n",
    "def positionGen():\n",
    "    for _ in range(count):\n",
    "        yield np.random.randn(2)*scalefactor*au\n",
    "\n",
    "def velocityGen():\n",
    "    for _ in range(count):\n",
    "        yield np.random.randn(2)*velocityfactor"
   ],
   "metadata": {
    "collapsed": false,
    "pycharm": {
     "name": "#%%\n"
    }
   }
  },
  {
   "cell_type": "code",
   "execution_count": 5,
   "outputs": [],
   "source": [
    "bodies = zip(masses := np.array([[_ for _ in massGen()]]), positions := np.array([_ for _ in positionGen()]))"
   ],
   "metadata": {
    "collapsed": false,
    "pycharm": {
     "name": "#%%\n"
    }
   }
  },
  {
   "cell_type": "code",
   "execution_count": 6,
   "outputs": [],
   "source": [
    "velocities = np.array([_ for _ in velocityGen()])"
   ],
   "metadata": {
    "collapsed": false,
    "pycharm": {
     "name": "#%%\n"
    }
   }
  },
  {
   "cell_type": "markdown",
   "source": [
    "Show data:"
   ],
   "metadata": {
    "collapsed": false,
    "pycharm": {
     "name": "#%% md\n"
    }
   }
  },
  {
   "cell_type": "code",
   "source": [
    "plt.title('Mass distribution')\n",
    "plt.plot(masses)"
   ],
   "metadata": {
    "collapsed": false,
    "pycharm": {
     "name": "#%%\n"
    }
   },
   "execution_count": 7,
   "outputs": [
    {
     "data": {
      "text/plain": "[<matplotlib.lines.Line2D at 0x7f030a0df8e0>,\n <matplotlib.lines.Line2D at 0x7f030a0df880>,\n <matplotlib.lines.Line2D at 0x7f030a0df9a0>,\n <matplotlib.lines.Line2D at 0x7f030a0dfac0>,\n <matplotlib.lines.Line2D at 0x7f030a0dfbe0>,\n <matplotlib.lines.Line2D at 0x7f030c152700>,\n <matplotlib.lines.Line2D at 0x7f030c152730>,\n <matplotlib.lines.Line2D at 0x7f030a0dfe20>,\n <matplotlib.lines.Line2D at 0x7f030a0dff40>,\n <matplotlib.lines.Line2D at 0x7f030a0f30a0>]"
     },
     "execution_count": 7,
     "metadata": {},
     "output_type": "execute_result"
    },
    {
     "data": {
      "text/plain": "<Figure size 432x288 with 1 Axes>",
      "image/png": "[encoded data removed]"
     },
     "metadata": {
      "needs_background": "light"
     },
     "output_type": "display_data"
    }
   ]
  },
  {
   "cell_type": "code",
   "execution_count": 8,
   "outputs": [
    {
     "data": {
      "text/plain": "<matplotlib.colorbar.Colorbar at 0x7f0309fb3130>"
     },
     "execution_count": 8,
     "metadata": {},
     "output_type": "execute_result"
    },
    {
     "data": {
      "text/plain": "<Figure size 432x288 with 2 Axes>",
      "image/png": "[encoded data removed]"
     },
     "metadata": {
      "needs_background": "light"
     },
     "output_type": "display_data"
    }
   ],
   "source": [
    "mass_scaler = MinMaxScaler()\n",
    "cmap = mass_scaler.fit_transform(masses.reshape(-2, 2))\n",
    "c = mcolors.ColorConverter().to_rgb\n",
    "\n",
    "plt.title('Bodies distribution')\n",
    "plt.scatter(positions[:, 0], positions[:, 1], c=cmap)\n",
    "plt.colorbar()"
   ],
   "metadata": {
    "collapsed": false,
    "pycharm": {
     "name": "#%%\n"
    }
   }
  },
  {
   "cell_type": "code",
   "execution_count": 9,
   "outputs": [
    {
     "data": {
      "text/plain": "<matplotlib.quiver.Quiver at 0x7f0309f87b20>"
     },
     "execution_count": 9,
     "metadata": {},
     "output_type": "execute_result"
    },
    {
     "data": {
      "text/plain": "<Figure size 432x288 with 1 Axes>",
      "image/png": "[encoded data removed]"
     },
     "metadata": {
      "needs_background": "light"
     },
     "output_type": "display_data"
    }
   ],
   "source": [
    "plt.title('Velocities')\n",
    "plt.quiver(positions[:,0], positions[:,1], velocities[:,0], velocities[:,1])"
   ],
   "metadata": {
    "collapsed": false,
    "pycharm": {
     "name": "#%%\n"
    }
   }
  },
  {
   "cell_type": "markdown",
   "source": [
    "Construct Python function from C shared library:"
   ],
   "metadata": {
    "collapsed": false,
    "pycharm": {
     "name": "#%% md\n"
    }
   }
  },
  {
   "cell_type": "code",
   "execution_count": 10,
   "outputs": [],
   "source": [
    "lib = cdll.LoadLibrary(\"barnes-hut/barneshut.so\")\n",
    "computeForces = lib.perform\n",
    "computeForces.restype = ndpointer(dtype=c_double,\n",
    "                          shape=(count,2))"
   ],
   "metadata": {
    "collapsed": false,
    "pycharm": {
     "name": "#%%\n"
    }
   }
  },
  {
   "cell_type": "markdown",
   "source": [
    "Compute forces using C function:"
   ],
   "metadata": {
    "collapsed": false,
    "pycharm": {
     "name": "#%% md\n"
    }
   }
  },
  {
   "cell_type": "code",
   "execution_count": 11,
   "outputs": [],
   "source": [
    "state = np.concatenate((masses.T, positions), axis=1)"
   ],
   "metadata": {
    "collapsed": false,
    "pycharm": {
     "name": "#%%\n"
    }
   }
  },
  {
   "cell_type": "code",
   "execution_count": 12,
   "outputs": [
    {
     "data": {
      "text/plain": "array([[ 6.29680646e+23,  6.50383799e+12, -5.27744059e+12],\n       [ 2.82606351e+23, -3.06281113e+12, -3.92180648e+12],\n       [ 6.72461402e+23, -3.40062681e+13, -3.72600857e+12],\n       [ 1.29166593e+24,  2.86917653e+12,  4.78823089e+12],\n       [ 8.43894374e+23,  1.22203511e+13,  1.15003215e+13],\n       [ 4.57263453e+23,  1.01386574e+13, -4.25463368e+12],\n       [ 8.02340858e+23, -1.56898337e+13,  2.04771526e+13],\n       [ 5.75119422e+23,  1.44841127e+13, -5.28935882e+12],\n       [ 1.21729091e+24, -3.02947916e+12, -3.82990123e+12],\n       [ 5.43969335e+23,  2.50975385e+12,  4.16776279e+13]])"
     },
     "execution_count": 12,
     "metadata": {},
     "output_type": "execute_result"
    }
   ],
   "source": [
    "state"
   ],
   "metadata": {
    "collapsed": false,
    "pycharm": {
     "name": "#%%\n"
    }
   }
  },
  {
   "cell_type": "code",
   "execution_count": null,
   "outputs": [],
   "source": [
    "forces = computeForces(c_void_p(state.ctypes.data),c_int(count),c_double(accuracy))"
   ],
   "metadata": {
    "collapsed": false,
    "pycharm": {
     "name": "#%%\n",
     "is_executing": true
    }
   }
  },
  {
   "cell_type": "code",
   "execution_count": null,
   "outputs": [],
   "source": [],
   "metadata": {
    "collapsed": false,
    "pycharm": {
     "name": "#%%\n",
     "is_executing": true
    }
   }
  }
 ],
 "metadata": {
  "kernelspec": {
   "display_name": "Python 3 (ipykernel)",
   "language": "python",
   "name": "python3"
  },
  "language_info": {
   "codemirror_mode": {
    "name": "ipython",
    "version": 3
   },
   "file_extension": ".py",
   "mimetype": "text/x-python",
   "name": "python",
   "nbconvert_exporter": "python",
   "pygments_lexer": "ipython3",
   "version": "3.9.10"
  }
 },
 "nbformat": 4,
 "nbformat_minor": 5
}