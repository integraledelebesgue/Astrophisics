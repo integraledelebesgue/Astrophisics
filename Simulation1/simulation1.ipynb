{
 "cells": [
  {
   "cell_type": "markdown",
   "id": "2030c594-fc07-4d93-ac98-514cdd07e2ca",
   "metadata": {},
   "source": [
    "Main Python code to perform the simulation and display results"
   ]
  },
  {
   "cell_type": "code",
   "execution_count": null,
   "id": "5c1fd436-628b-4336-bd92-6b4104c6bd1a",
   "metadata": {},
   "outputs": [],
   "source": []
  }
 ],
 "metadata": {
  "kernelspec": {
   "display_name": "Python 3 (ipykernel)",
   "language": "python",
   "name": "python3"
  },
  "language_info": {
   "codemirror_mode": {
    "name": "ipython",
    "version": 3
   },
   "file_extension": ".py",
   "mimetype": "text/x-python",
   "name": "python",
   "nbconvert_exporter": "python",
   "pygments_lexer": "ipython3",
   "version": "3.9.2"
  }
 },
 "nbformat": 4,
 "nbformat_minor": 5
}
